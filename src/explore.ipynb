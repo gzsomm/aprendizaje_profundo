{
    "cells": [
        {
            "cell_type": "markdown",
            "metadata": {},
            "source": [
                "# Explore here"
            ]
        },
        {
            "cell_type": "code",
            "execution_count": 19,
            "metadata": {},
            "outputs": [],
            "source": [
                "import os\n",
                "\n",
                "# Configura la ruta manualmente para que Kaggle encuentre el archivo\n",
                "os.environ['KAGGLE_CONFIG_DIR'] = '/workspaces/aprendizaje_profundo/src/kaggle.json'"
            ]
        },
        {
            "cell_type": "code",
            "execution_count": 20,
            "metadata": {},
            "outputs": [
                {
                    "name": "stdout",
                    "output_type": "stream",
                    "text": [
                        "Traceback (most recent call last):\n",
                        "  File \"/home/vscode/.local/bin/kaggle\", line 5, in <module>\n",
                        "    from kaggle.cli import main\n",
                        "  File \"/home/vscode/.local/lib/python3.11/site-packages/kaggle/__init__.py\", line 6, in <module>\n",
                        "    api.authenticate()\n",
                        "  File \"/home/vscode/.local/lib/python3.11/site-packages/kaggle/api/kaggle_api_extended.py\", line 433, in authenticate\n",
                        "    raise IOError('Could not find {}. Make sure it\\'s located in'\n",
                        "OSError: Could not find kaggle.json. Make sure it's located in /workspaces/aprendizaje_profundo/src/kaggle.json. Or use the environment method. See setup instructions at https://github.com/Kaggle/kaggle-api/\n"
                    ]
                }
            ],
            "source": [
                "# Descargar el dataset\n",
                "!kaggle competitions download -c dogs-vs-cats"
            ]
        },
        {
            "cell_type": "code",
            "execution_count": null,
            "metadata": {},
            "outputs": [
                {
                    "ename": "SyntaxError",
                    "evalue": "invalid syntax (1274331550.py, line 7)",
                    "output_type": "error",
                    "traceback": [
                        "  \u001b[36mCell\u001b[39m\u001b[36m \u001b[39m\u001b[32mIn[16]\u001b[39m\u001b[32m, line 7\u001b[39m\n\u001b[31m    \u001b[39m\u001b[31mNext Page Token = [...]\u001b[39m\n         ^\n\u001b[31mSyntaxError\u001b[39m\u001b[31m:\u001b[39m invalid syntax\n"
                    ]
                }
            ],
            "source": [
                "\n"
            ]
        }
    ],
    "metadata": {
        "kernelspec": {
            "display_name": "Python 3",
            "language": "python",
            "name": "python3"
        },
        "language_info": {
            "codemirror_mode": {
                "name": "ipython",
                "version": 3
            },
            "file_extension": ".py",
            "mimetype": "text/x-python",
            "name": "python",
            "nbconvert_exporter": "python",
            "pygments_lexer": "ipython3",
            "version": "3.11.4"
        },
        "orig_nbformat": 4
    },
    "nbformat": 4,
    "nbformat_minor": 2
}
