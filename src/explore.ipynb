{
    "cells": [
        {
            "cell_type": "markdown",
            "metadata": {},
            "source": [
                "# Explore here"
            ]
        },
        {
            "cell_type": "code",
            "execution_count": 9,
            "metadata": {},
            "outputs": [],
            "source": [
                "import os\n",
                "\n",
                "# Configura la ruta manualmente para que Kaggle encuentre el archivo\n",
                "os.environ['KAGGLE_CONFIG_DIR'] = \"/workspaces/aprendizaje_profundo/kaggle.json\""
            ]
        },
        {
            "cell_type": "code",
            "execution_count": 10,
            "metadata": {},
            "outputs": [
                {
                    "name": "stdout",
                    "output_type": "stream",
                    "text": [
                        "Traceback (most recent call last):\n",
                        "  File \"/home/vscode/.local/bin/kaggle\", line 5, in <module>\n",
                        "    from kaggle.cli import main\n",
                        "  File \"/home/vscode/.local/lib/python3.11/site-packages/kaggle/__init__.py\", line 6, in <module>\n",
                        "    api.authenticate()\n",
                        "  File \"/home/vscode/.local/lib/python3.11/site-packages/kaggle/api/kaggle_api_extended.py\", line 433, in authenticate\n",
                        "    raise IOError('Could not find {}. Make sure it\\'s located in'\n",
                        "OSError: Could not find kaggle.json. Make sure it's located in /workspaces/aprendizaje_profundo/kaggle.json. Or use the environment method. See setup instructions at https://github.com/Kaggle/kaggle-api/\n"
                    ]
                }
            ],
            "source": [
                "# Descargar el dataset\n",
                "!kaggle competitions download -c dogs-vs-cats"
            ]
        }
    ],
    "metadata": {
        "kernelspec": {
            "display_name": "Python 3",
            "language": "python",
            "name": "python3"
        },
        "language_info": {
            "codemirror_mode": {
                "name": "ipython",
                "version": 3
            },
            "file_extension": ".py",
            "mimetype": "text/x-python",
            "name": "python",
            "nbconvert_exporter": "python",
            "pygments_lexer": "ipython3",
            "version": "3.11.4"
        },
        "orig_nbformat": 4
    },
    "nbformat": 4,
    "nbformat_minor": 2
}
